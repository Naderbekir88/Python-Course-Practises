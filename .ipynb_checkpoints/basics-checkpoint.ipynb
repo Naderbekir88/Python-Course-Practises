{
 "cells": [
  {
   "cell_type": "markdown",
   "metadata": {},
   "source": [
    "<div class=\"alert alert-block alert-info\">\n",
    "<b>Hey:</b>This is A summary of python basics for A Python Data Analyst’s Toolkit book. \n",
    "</div>"
   ]
  },
  {
   "cell_type": "markdown",
   "metadata": {},
   "source": [
    "Time of excution of the script `"
   ]
  },
  {
   "cell_type": "code",
   "execution_count": 6,
   "metadata": {},
   "outputs": [
    {
     "name": "stdout",
     "output_type": "stream",
     "text": [
      "1.83 ms ± 464 µs per loop (mean ± std. dev. of 7 runs, 100 loops each)\n"
     ]
    }
   ],
   "source": [
    "%%timeit\n",
    "for i in range(10000):\n",
    "    i*i"
   ]
  },
  {
   "cell_type": "code",
   "execution_count": 7,
   "metadata": {},
   "outputs": [
    {
     "name": "stdout",
     "output_type": "stream",
     "text": [
      "\n",
      "Today is a lovely day.\n",
      "It will be warm and sunny.\n",
      "It is ideal for hiking.\n",
      "\n"
     ]
    }
   ],
   "source": [
    "print('''\n",
    "Today is a lovely day.\n",
    "It will be warm and sunny.\n",
    "It is ideal for hiking.\n",
    "''')"
   ]
  },
  {
   "cell_type": "code",
   "execution_count": 14,
   "metadata": {},
   "outputs": [
    {
     "name": "stdout",
     "output_type": "stream",
     "text": [
      "you have got 5 and 8 :) \n"
     ]
    }
   ],
   "source": [
    "a=5\n",
    "b=8\n",
    "print(\"you have got {} and {} :) \".format(a,b))"
   ]
  },
  {
   "cell_type": "code",
   "execution_count": 11,
   "metadata": {},
   "outputs": [
    {
     "name": "stdout",
     "output_type": "stream",
     "text": [
      "The weight of Simi is 4.5\n"
     ]
    }
   ],
   "source": [
    "weight=4.5\n",
    "name=\"Simi\"\n",
    "print(\"The weight of {} is {}\".format(name,weight))"
   ]
  },
  {
   "cell_type": "code",
   "execution_count": 15,
   "metadata": {},
   "outputs": [
    {
     "name": "stdout",
     "output_type": "stream",
     "text": [
      "The integer equivalent of True is 1\n"
     ]
    }
   ],
   "source": [
    "print(\"The integer equivalent of\",True,\"is\",1)"
   ]
  },
  {
   "cell_type": "code",
   "execution_count": 16,
   "metadata": {},
   "outputs": [
    {
     "name": "stdout",
     "output_type": "stream",
     "text": [
      "My Name is  Nader\n"
     ]
    }
   ],
   "source": [
    "N=\"Nader\"\n",
    "print(\"My Name is \",N)"
   ]
  },
  {
   "cell_type": "code",
   "execution_count": 17,
   "metadata": {},
   "outputs": [
    {
     "name": "stdout",
     "output_type": "stream",
     "text": [
      "The value of x upto 3 decimal points is 91.235\n"
     ]
    }
   ],
   "source": [
    "x=91.234567\n",
    "print(\"The value of x upto 3 decimal points is {:.3f}\".format(x))"
   ]
  },
  {
   "cell_type": "code",
   "execution_count": 18,
   "metadata": {},
   "outputs": [
    {
     "name": "stdout",
     "output_type": "stream",
     "text": [
      "Jack and Jill went up the hill to fetch a pail of water\n"
     ]
    }
   ],
   "source": [
    "y='Jack'\n",
    "x='Jill'\n",
    "print(\"{1} and {0} went up the hill to fetch a pail of water\".format(x,y))"
   ]
  },
  {
   "cell_type": "code",
   "execution_count": 20,
   "metadata": {},
   "outputs": [
    {
     "name": "stdout",
     "output_type": "stream",
     "text": [
      "Nader he is friend of Ahmed\n"
     ]
    }
   ],
   "source": [
    "x='Nader'\n",
    "y='Ahmed'\n",
    "print('{0} he is friend of {1}'.format(x,y))"
   ]
  },
  {
   "cell_type": "markdown",
   "metadata": {},
   "source": [
    "# input"
   ]
  },
  {
   "cell_type": "code",
   "execution_count": 22,
   "metadata": {},
   "outputs": [
    {
     "name": "stdout",
     "output_type": "stream",
     "text": [
      "Hey Man you are years old18\n"
     ]
    }
   ],
   "source": [
    "inp=int(input(\"Hey Man you are \"))"
   ]
  },
  {
   "cell_type": "code",
   "execution_count": 23,
   "metadata": {},
   "outputs": [
    {
     "name": "stdout",
     "output_type": "stream",
     "text": [
      "Enter your age:21\n",
      "In 2010, you were 11 years old\n"
     ]
    }
   ],
   "source": [
    "age=input(\"Enter your age:\")\n",
    "print(\"In 2010, you were\",int(age)-10,\"years old\")"
   ]
  },
  {
   "cell_type": "markdown",
   "metadata": {},
   "source": [
    "identity Operators is & Not is "
   ]
  },
  {
   "cell_type": "code",
   "execution_count": 27,
   "metadata": {},
   "outputs": [
    {
     "data": {
      "text/plain": [
       "True"
      ]
     },
     "execution_count": 27,
     "metadata": {},
     "output_type": "execute_result"
    }
   ],
   "source": [
    "x=3\n",
    "y=x\n",
    "z=y\n",
    "x is z"
   ]
  },
  {
   "cell_type": "markdown",
   "metadata": {},
   "source": [
    "Membership operators (in and not in)"
   ]
  },
  {
   "cell_type": "code",
   "execution_count": 31,
   "metadata": {},
   "outputs": [
    {
     "data": {
      "text/plain": [
       "True"
      ]
     },
     "execution_count": 31,
     "metadata": {},
     "output_type": "execute_result"
    }
   ],
   "source": [
    "c='N'\n",
    "C=\"Nader\"\n",
    "c in C"
   ]
  },
  {
   "cell_type": "markdown",
   "metadata": {},
   "source": [
    "Data Type .."
   ]
  },
  {
   "cell_type": "code",
   "execution_count": 32,
   "metadata": {},
   "outputs": [
    {
     "data": {
      "text/plain": [
       "float"
      ]
     },
     "execution_count": 32,
     "metadata": {},
     "output_type": "execute_result"
    }
   ],
   "source": [
    "type(2.58)"
   ]
  },
  {
   "cell_type": "code",
   "execution_count": 33,
   "metadata": {},
   "outputs": [
    {
     "name": "stdout",
     "output_type": "stream",
     "text": [
      "1995-01-01\n"
     ]
    }
   ],
   "source": [
    "import datetime\n",
    "date=datetime.date(year=1995,month=1,day=1)\n",
    "print(date)"
   ]
  },
  {
   "cell_type": "code",
   "execution_count": 35,
   "metadata": {},
   "outputs": [
    {
     "name": "stdout",
     "output_type": "stream",
     "text": [
      "2000-02-01\n"
     ]
    }
   ],
   "source": [
    "#Parameter are mandatory\n",
    "myDate=datetime.date(year=2000,month=2,day=1)\n",
    "print(myDate)"
   ]
  },
  {
   "cell_type": "code",
   "execution_count": 39,
   "metadata": {},
   "outputs": [
    {
     "name": "stdout",
     "output_type": "stream",
     "text": [
      "midnight: 10:29:05\n"
     ]
    }
   ],
   "source": [
    "#Parameter are not mandatory\n",
    "time=datetime.time(hour=10,minute=29,second=5,microsecond=0)\n",
    "print(\"midnight:\",time)"
   ]
  },
  {
   "cell_type": "markdown",
   "metadata": {},
   "source": [
    "1.The date arguments – day, month, and year \n",
    "2.are mandatory, but the time argument (like hour, minute, etc.) can be skipped"
   ]
  },
  {
   "cell_type": "code",
   "execution_count": 44,
   "metadata": {},
   "outputs": [],
   "source": [
    "myDataTime=datetime.datetime(year=2000,month=2,day=1,hour=1,minute=29,second=5)"
   ]
  },
  {
   "cell_type": "code",
   "execution_count": 45,
   "metadata": {},
   "outputs": [
    {
     "name": "stdout",
     "output_type": "stream",
     "text": [
      "2st feb 2000 midnight 2000-02-01 01:29:05\n"
     ]
    }
   ],
   "source": [
    "print(\"2st feb 2000 midnight\",myDataTime)\n"
   ]
  },
  {
   "cell_type": "code",
   "execution_count": 55,
   "metadata": {},
   "outputs": [
    {
     "name": "stdout",
     "output_type": "stream",
     "text": [
      "length of string is  5\n",
      "Accessing individual elements in string is  o\n",
      "Slicing string is  Hlo\n",
      "Slicing reversing string  olleH\n"
     ]
    }
   ],
   "source": [
    "string=\"Hello\"\n",
    "print(\"length of string is \",len(string))\n",
    "print(\"Accessing individual elements in string is \",string[4])\n",
    "print(\"Slicing string is \",string[::2])\n",
    "print(\"Slicing reversing string \",string[::-1])"
   ]
  },
  {
   "cell_type": "code",
   "execution_count": 1,
   "metadata": {},
   "outputs": [
    {
     "data": {
      "text/plain": [
       "'**123'"
      ]
     },
     "execution_count": 1,
     "metadata": {},
     "output_type": "execute_result"
    }
   ],
   "source": [
    "#Justification \n",
    "'123'.rjust(5,\"*\")"
   ]
  },
  {
   "cell_type": "code",
   "execution_count": 5,
   "metadata": {},
   "outputs": [
    {
     "name": "stdout",
     "output_type": "stream",
     "text": [
      "0001\n",
      "0002\n",
      "0010\n",
      "0100\n",
      "3000\n"
     ]
    }
   ],
   "source": [
    "ids=[1,2,10,100,3000]\n",
    "for i in ids :\n",
    "    print(str(i).rjust(4,'0'))"
   ]
  },
  {
   "cell_type": "code",
   "execution_count": 6,
   "metadata": {},
   "outputs": [
    {
     "data": {
      "text/plain": [
       "'Python is easy to learn'"
      ]
     },
     "execution_count": 6,
     "metadata": {},
     "output_type": "execute_result"
    }
   ],
   "source": [
    "#Join List of String \n",
    "' '.join(['Python','is','easy','to','learn'])"
   ]
  },
  {
   "cell_type": "code",
   "execution_count": 8,
   "metadata": {},
   "outputs": [
    {
     "data": {
      "text/plain": [
       "['Python', 'is', 'easy', 'to', 'learn']"
      ]
     },
     "execution_count": 8,
     "metadata": {},
     "output_type": "execute_result"
    }
   ],
   "source": [
    "#Split It breaks down a string into a list of individual words and returns\n",
    "'Python is easy to learn'.split()"
   ]
  },
  {
   "cell_type": "code",
   "execution_count": 9,
   "metadata": {},
   "outputs": [
    {
     "data": {
      "text/plain": [
       "['Try']"
      ]
     },
     "execution_count": 9,
     "metadata": {},
     "output_type": "execute_result"
    }
   ],
   "source": [
    "\"Try\".split()"
   ]
  },
  {
   "cell_type": "markdown",
   "metadata": {},
   "source": [
    "Conditional Statements"
   ]
  },
  {
   "cell_type": "code",
   "execution_count": 13,
   "metadata": {},
   "outputs": [
    {
     "name": "stdout",
     "output_type": "stream",
     "text": [
      "Enter one of the following colors - red, orange or blue:blue\n",
      "Your favorite color is blue\n"
     ]
    }
   ],
   "source": [
    "color=input('Enter one of the following colors - red, orange or blue:')\n",
    "if color=='red':\n",
    "    print('Your favorite color is red')\n",
    "elif color=='orange':\n",
    "    print('Your favorite color is orange')\n",
    "elif color=='blue':\n",
    "    print('Your favorite color is blue')\n",
    "else:\n",
    "    print(\"You entered the wrong color\")"
   ]
  },
  {
   "cell_type": "code",
   "execution_count": 15,
   "metadata": {},
   "outputs": [
    {
     "name": "stdout",
     "output_type": "stream",
     "text": [
      "25\n"
     ]
    }
   ],
   "source": [
    "#for loop\n",
    "sum=0\n",
    "for i in range(1,10,2):\n",
    "    sum=sum+i\n",
    "print(sum)"
   ]
  },
  {
   "cell_type": "code",
   "execution_count": 5,
   "metadata": {},
   "outputs": [
    {
     "name": "stdout",
     "output_type": "stream",
     "text": [
      "a a a a \n",
      "\n",
      "b b b b \n",
      "\n",
      "c c c c \n",
      "\n",
      "d d d d \n",
      "\n"
     ]
    }
   ],
   "source": [
    "#Nested loop\n",
    "for i in 'abcd':\n",
    "    for j in range(4):\n",
    "        print(i,end=\" \")\n",
    "    print(\"\\n\")"
   ]
  },
  {
   "cell_type": "markdown",
   "metadata": {},
   "source": [
    "Lambda Function"
   ]
  },
  {
   "cell_type": "code",
   "execution_count": 6,
   "metadata": {},
   "outputs": [
    {
     "data": {
      "text/plain": [
       "9"
      ]
     },
     "execution_count": 6,
     "metadata": {},
     "output_type": "execute_result"
    }
   ],
   "source": [
    "(lambda x,y:(x+y))(5,4)"
   ]
  },
  {
   "cell_type": "code",
   "execution_count": 7,
   "metadata": {},
   "outputs": [
    {
     "data": {
      "text/plain": [
       "11"
      ]
     },
     "execution_count": 7,
     "metadata": {},
     "output_type": "execute_result"
    }
   ],
   "source": [
    "def Sum(x,y):\n",
    "    return x+y\n",
    "Sum(3,8)"
   ]
  },
  {
   "cell_type": "code",
   "execution_count": 8,
   "metadata": {},
   "outputs": [
    {
     "name": "stdout",
     "output_type": "stream",
     "text": [
      "15\n"
     ]
    }
   ],
   "source": [
    "x = lambda a : a + 10\n",
    "print(x(5))"
   ]
  },
  {
   "cell_type": "code",
   "execution_count": 9,
   "metadata": {},
   "outputs": [
    {
     "name": "stdout",
     "output_type": "stream",
     "text": [
      "30\n"
     ]
    }
   ],
   "source": [
    "x = lambda a, b : a * b\n",
    "print(x(5, 6))"
   ]
  },
  {
   "cell_type": "code",
   "execution_count": 10,
   "metadata": {},
   "outputs": [
    {
     "name": "stdout",
     "output_type": "stream",
     "text": [
      "13\n"
     ]
    }
   ],
   "source": [
    "x = lambda a, b, c : a + b + c\n",
    "print(x(5, 6, 2))"
   ]
  },
  {
   "cell_type": "code",
   "execution_count": 10,
   "metadata": {},
   "outputs": [
    {
     "data": {
      "text/plain": [
       "[27, 0, 29, 3, 23, 16]"
      ]
     },
     "execution_count": 10,
     "metadata": {},
     "output_type": "execute_result"
    }
   ],
   "source": [
    "#Generate Random list \n",
    "import random\n",
    "rand_list=random.sample(range(0,30),6)\n",
    "rand_list"
   ]
  },
  {
   "cell_type": "code",
   "execution_count": 13,
   "metadata": {},
   "outputs": [
    {
     "data": {
      "text/plain": [
       "[3, 5, 7, 2, 0, 6]"
      ]
     },
     "execution_count": 13,
     "metadata": {},
     "output_type": "execute_result"
    }
   ],
   "source": [
    "#Generate list consists of 6 Nubers in range 8 [0:7]\n",
    "import random\n",
    "rand_list2=random.sample(range(8),6)\n",
    "rand_list2"
   ]
  },
  {
   "cell_type": "markdown",
   "metadata": {},
   "source": [
    "List comprehension "
   ]
  },
  {
   "cell_type": "code",
   "execution_count": 2,
   "metadata": {},
   "outputs": [
    {
     "name": "stdout",
     "output_type": "stream",
     "text": [
      "[0, 1, 2, 3, 4]\n"
     ]
    }
   ],
   "source": [
    "L=[i for i in range(5)]\n",
    "print(L)"
   ]
  },
  {
   "cell_type": "code",
   "execution_count": 4,
   "metadata": {},
   "outputs": [
    {
     "name": "stdout",
     "output_type": "stream",
     "text": [
      "[0, 3, 6, 9, 12, 15, 18, 21]\n"
     ]
    }
   ],
   "source": [
    "b=[i*3 for i in range(8)]\n",
    "print(b)"
   ]
  },
  {
   "cell_type": "code",
   "execution_count": 7,
   "metadata": {},
   "outputs": [
    {
     "data": {
      "text/plain": [
       "[0, 4, 16, 36, 64]"
      ]
     },
     "execution_count": 7,
     "metadata": {},
     "output_type": "execute_result"
    }
   ],
   "source": [
    "Y=[i*i for i in range(9) if(i%2==0)]\n",
    "Y"
   ]
  },
  {
   "cell_type": "code",
   "execution_count": 11,
   "metadata": {},
   "outputs": [
    {
     "name": "stdout",
     "output_type": "stream",
     "text": [
      "enter the value of a 15\n",
      "enter the value of b 12\n",
      "a is greater than b \n"
     ]
    }
   ],
   "source": [
    "a=int(input(\"enter the value of a \"))\n",
    "b=int(input('enter the value of b '))\n",
    "print(\"Both of them are equal\" if a==b else \"a is greater than b \" if a > b else \"b is greater than a\")"
   ]
  },
  {
   "cell_type": "code",
   "execution_count": 13,
   "metadata": {},
   "outputs": [
    {
     "data": {
      "text/plain": [
       "10"
      ]
     },
     "execution_count": 13,
     "metadata": {},
     "output_type": "execute_result"
    }
   ],
   "source": [
    "#<<on True >> if <<Expression>> else <<On False>>\n",
    "a,b=10,12\n",
    "Min= a if a<b else b\n",
    "Min"
   ]
  },
  {
   "cell_type": "code",
   "execution_count": null,
   "metadata": {},
   "outputs": [],
   "source": []
  },
  {
   "cell_type": "code",
   "execution_count": 14,
   "metadata": {},
   "outputs": [
    {
     "name": "stdout",
     "output_type": "stream",
     "text": [
      "Enter your score:5\n",
      "You obtained a score of  5\n"
     ]
    }
   ],
   "source": [
    "while True:\n",
    "    try:\n",
    "        n=int(input('Enter your score:'))\n",
    "        print('You obtained a score of ',n)\n",
    "        break\n",
    "    except ValueError:\n",
    "        print('Enter only an integer value !')"
   ]
  },
  {
   "cell_type": "code",
   "execution_count": 26,
   "metadata": {},
   "outputs": [
    {
     "name": "stdout",
     "output_type": "stream",
     "text": [
      "<map object at 0x000002D26D50AEB0>\n",
      "[4, 9, 16, 25, 36, 49, 64, 81]\n"
     ]
    }
   ],
   "source": [
    "def square(n):\n",
    "    return n*n\n",
    "my_list = [2,3,4,5,6,7,8,9]\n",
    "updated_list = map(square, my_list)\n",
    "print(updated_list)\n",
    "print(list(updated_list))"
   ]
  },
  {
   "cell_type": "markdown",
   "metadata": {},
   "source": []
  },
  {
   "cell_type": "code",
   "execution_count": 12,
   "metadata": {},
   "outputs": [
    {
     "name": "stdout",
     "output_type": "stream",
     "text": [
      "1 4 6 7\n"
     ]
    }
   ],
   "source": [
    "mytuple=1,4,6,7\n",
    "x,y,z,m=mytuple\n",
    "print(x,y,z,m)"
   ]
  },
  {
   "cell_type": "code",
   "execution_count": 1,
   "metadata": {},
   "outputs": [
    {
     "data": {
      "text/plain": [
       "2"
      ]
     },
     "execution_count": 1,
     "metadata": {},
     "output_type": "execute_result"
    }
   ],
   "source": [
    "#Some Exercises\n",
    "x=True\n",
    "y=False\n",
    "z=True\n",
    "x+y+z"
   ]
  },
  {
   "cell_type": "markdown",
   "metadata": {},
   "source": [
    "Calculate the factorial of numbers from 1 to 5 "
   ]
  },
  {
   "cell_type": "code",
   "execution_count": 29,
   "metadata": {},
   "outputs": [
    {
     "name": "stdout",
     "output_type": "stream",
     "text": [
      "Factorial of number  5  is: 120\n"
     ]
    }
   ],
   "source": [
    "for i in range(1,6):\n",
    "    fact=1\n",
    "    for j in range(1,i+1):\n",
    "        fact=fact*j\n",
    "print(\"Factorial of number \",i,\" is:\",fact)"
   ]
  },
  {
   "cell_type": "code",
   "execution_count": 26,
   "metadata": {},
   "outputs": [
    {
     "data": {
      "text/plain": [
       "True"
      ]
     },
     "execution_count": 26,
     "metadata": {},
     "output_type": "execute_result"
    }
   ],
   "source": [
    "#Note The id function returns the memory address of an object\n",
    "str1=\"Hello\"\n",
    "str2=str1\n",
    "id(str1)==id(str2)  #  Both the strings have the same value and memory address"
   ]
  },
  {
   "cell_type": "markdown",
   "metadata": {},
   "source": [
    "Convert the string “123-456-7890” into the format “1234567890”."
   ]
  },
  {
   "cell_type": "code",
   "execution_count": 25,
   "metadata": {},
   "outputs": [
    {
     "data": {
      "text/plain": [
       "'1234567890'"
      ]
     },
     "execution_count": 25,
     "metadata": {},
     "output_type": "execute_result"
    }
   ],
   "source": [
    "\"\".join(list(\"123-456-7890\".split(\"-\")))"
   ]
  },
  {
   "cell_type": "code",
   "execution_count": 28,
   "metadata": {},
   "outputs": [
    {
     "name": "stdout",
     "output_type": "stream",
     "text": [
      "*****\n",
      "****\n",
      "***\n",
      "**\n",
      "*\n",
      "\n",
      "\n",
      "\n"
     ]
    }
   ],
   "source": [
    "l=range(6)\n",
    "for i in l[::-1]:\n",
    "    print(\"*\"*i)\n",
    "print(\"\\n\")"
   ]
  },
  {
   "cell_type": "code",
   "execution_count": null,
   "metadata": {},
   "outputs": [],
   "source": []
  }
 ],
 "metadata": {
  "kernelspec": {
   "display_name": "Python 3",
   "language": "python",
   "name": "python3"
  },
  "language_info": {
   "codemirror_mode": {
    "name": "ipython",
    "version": 3
   },
   "file_extension": ".py",
   "mimetype": "text/x-python",
   "name": "python",
   "nbconvert_exporter": "python",
   "pygments_lexer": "ipython3",
   "version": "3.8.3"
  }
 },
 "nbformat": 4,
 "nbformat_minor": 4
}
